{
 "cells": [
  {
   "cell_type": "markdown",
   "id": "2187124e-4989-4af5-875a-e16196ca7e3e",
   "metadata": {},
   "source": [
    "Creating a meshgrid for the data points to insert into SDM TMB"
   ]
  },
  {
   "cell_type": "code",
   "execution_count": 1,
   "id": "f99b8cb9-72bf-4dfb-9ec2-4e67e9e5dd74",
   "metadata": {},
   "outputs": [
    {
     "ename": "NameError",
     "evalue": "name 'CHL' is not defined",
     "output_type": "error",
     "traceback": [
      "\u001b[0;31m---------------------------------------------------------------------------\u001b[0m",
      "\u001b[0;31mNameError\u001b[0m                                 Traceback (most recent call last)",
      "Cell \u001b[0;32mIn[1], line 5\u001b[0m\n\u001b[1;32m      2\u001b[0m \u001b[38;5;28;01mimport\u001b[39;00m\u001b[38;5;250m \u001b[39m\u001b[38;5;21;01mxarray\u001b[39;00m\u001b[38;5;250m \u001b[39m\u001b[38;5;28;01mas\u001b[39;00m\u001b[38;5;250m \u001b[39m\u001b[38;5;21;01mxr\u001b[39;00m\n\u001b[1;32m      4\u001b[0m \u001b[38;5;66;03m# pick a time slice to grid\u001b[39;00m\n\u001b[0;32m----> 5\u001b[0m da \u001b[38;5;241m=\u001b[39m \u001b[43mCHL\u001b[49m[\u001b[38;5;124m\"\u001b[39m\u001b[38;5;124mchlor_a\u001b[39m\u001b[38;5;124m\"\u001b[39m]\u001b[38;5;241m.\u001b[39msel(time\u001b[38;5;241m=\u001b[39mtime, method\u001b[38;5;241m=\u001b[39m\u001b[38;5;124m\"\u001b[39m\u001b[38;5;124mnearest\u001b[39m\u001b[38;5;124m\"\u001b[39m)\n\u001b[1;32m      7\u001b[0m \u001b[38;5;66;03m# choose grid resolution in degrees (e.g., ~5 km ≈ 0.05° near CA)\u001b[39;00m\n\u001b[1;32m      8\u001b[0m dlat \u001b[38;5;241m=\u001b[39m dlon \u001b[38;5;241m=\u001b[39m \u001b[38;5;241m0.05\u001b[39m\n",
      "\u001b[0;31mNameError\u001b[0m: name 'CHL' is not defined"
     ]
    }
   ],
   "source": [
    "import numpy as np\n",
    "import xarray as xr\n",
    "\n",
    "# pick a time slice to grid\n",
    "da = CHL[\"chlor_a\"].sel(time=time, method=\"nearest\")\n",
    "\n",
    "# choose grid resolution in degrees (e.g., ~5 km ≈ 0.05° near CA)\n",
    "dlat = dlon = 0.05\n",
    "lat_new = np.arange(float(da.lat.min()), float(da.lat.max()) + dlat/2, dlat)\n",
    "lon_new = np.arange(float(da.lon.min()), float(da.lon.max()) + dlon/2, dlon)\n",
    "\n",
    "# regrid to regular lat/lon\n",
    "da_reg = da.interp(lat=lat_new, lon=lon_new)\n",
    "\n",
    "# make the mesh (2D lon/lat arrays) for your model\n",
    "LON, LAT = np.meshgrid(da_reg.lon.values, da_reg.lat.values)  # shape (ny, nx)\n",
    "\n",
    "# gridded field to feed the model (same shape)\n",
    "CHL_grid = da_reg.values  # (ny, nx)"
   ]
  },
  {
   "cell_type": "code",
   "execution_count": null,
   "id": "7deaed9d-b667-4d5f-b32e-d30e77f0dd0b",
   "metadata": {},
   "outputs": [],
   "source": []
  }
 ],
 "metadata": {
  "kernelspec": {
   "display_name": "Python 3 (ipykernel)",
   "language": "python",
   "name": "python3"
  },
  "language_info": {
   "codemirror_mode": {
    "name": "ipython",
    "version": 3
   },
   "file_extension": ".py",
   "mimetype": "text/x-python",
   "name": "python",
   "nbconvert_exporter": "python",
   "pygments_lexer": "ipython3",
   "version": "3.12.10"
  }
 },
 "nbformat": 4,
 "nbformat_minor": 5
}
