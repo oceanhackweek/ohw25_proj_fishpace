





%pip install -U h5netcdf netCDF4 xarray dask matplotlib cartopy


%pip install -U earthaccess


import os, re
import earthaccess


# choose times
temporal = ("2024-06-04", "2024-07-01")

# login to nasa
auth = earthaccess.login()





results_day = earthaccess.search_data(
    short_name = "PACE_OCI_L3M_CHL",
    temporal = temporal,
    granule_name="*.DAY.*.0p1deg.*"
)
len(results_day)


import os, re
from glob import glob
import pandas as pd


outdir = "pace_chl_dl"   # <-- use your download folder name
paths = sorted(glob(os.path.join(outdir, "*.nc")))
len(paths), paths[:3]


import os, re, pandas as pd

# make sure 'paths' exists (you already created it)
print("n files:", len(paths))
print("sample:", os.path.basename(paths[0]))

# a forgiving pattern: any 8-digit date starting with 20, not part of a longer number
date_re = re.compile(r"(?<!\d)(20\d{6})(?!\d)")

# quick preview to verify matches
for n in [os.path.basename(p) for p in paths[:5]]:
    m = date_re.search(n)
    print(n, "->", m.group(1) if m else None)

# build the dates list (fail loudly if any file doesn't match)
dates = []
for p in paths:
    name = os.path.basename(p)
    m = date_re.search(name)
    if not m:
        raise ValueError(f"Could not extract date from: {name}")
    dates.append(pd.to_datetime(m.group(1), format="%Y%m%d"))

# sanity check
if len(dates) != len(paths):
    raise ValueError(f"Mismatch: found {len(dates)} dates for {len(paths)} files")

dates[:3]


import xarray as xr

# Try h5netcdf first; fall back to netcdf4 if needed
for _engine in ("h5netcdf", "netcdf4", None):
    try:
        ds = xr.open_mfdataset(
            paths,
            combine="nested",
            concat_dim="time",
            engine=_engine,          # may be None if both backends are fine
            mask_and_scale=True,
            decode_times=False       # we'll attach clean times next
        )
        break
    except Exception as e:
        last_err = e
else:
    raise last_err  # if all engines failed

# attach the dates you just built
ds = ds.assign_coords(time=("time", dates))
ds


import os
from glob import glob
import xarray as xr

outdir = "pace_chl_dl"            # the folder that has your .nc files
paths = sorted(glob(os.path.join(outdir, "*.nc")))
print(len(paths), "files")

ds = xr.open_mfdataset(
    paths,
    combine="nested",
    concat_dim="time",
    parallel=True,                # optional
    # engine="h5netcdf",          # uncomment this line only if you get an engine error
)
ds = ds[["chlor_a"]]              # keep just the variable we need
ds


# QUICK sanity for coordinates (safe, minimal)

# 1) If longitude is 0..360, convert to -180..180
lon_min, lon_max = float(ds.lon.min()), float(ds.lon.max())
if lon_max > 180:
    ds = ds.assign_coords(lon=((ds.lon + 180) % 360) - 180).sortby("lon")

# 2) Ensure latitude is ascending
if float(ds.lat[0]) > float(ds.lat[-1]):
    ds = ds.sortby("lat")

ds  # just to see the summary


# ds in memory (with time, lat, lon, chlor_a)
ds
# Optional: if ever need to ensure chunks:
ds = ds.chunk({'time': 1})  # keeps plotting snappy


import numpy as np

# Lon is degrees_east in your data with range ~[-180, 180]
lon_w, lon_e = -85, -60      # West to East
lat_s, lat_n =  24,  47      # South to North

# pick a date near your data window (nearest will be taken)
t = np.datetime64("2024-06-10")   # change if you want another date


import numpy as np
import matplotlib.pyplot as plt
from matplotlib.colors import LogNorm

# Your box (degrees east, negative = west)
lon_w, lon_e = -85, -60
lat_s, lat_n = 24, 47

# Make a latitude slice that works whether lat is ascending or descending
lat_ascending = float(ds.lat[0]) < float(ds.lat[-1])
lat_slice = slice(lat_s, lat_n) if lat_ascending else slice(lat_n, lat_s)

# Subset the dataset to the box
ds_ec = ds.sel(lat=lat_slice, lon=slice(lon_w, lon_e))
ds_ec


# If time is missing as a coordinate in the East Coast subset, copy it from the full ds
if "time" not in ds_ec.coords and "time" in ds.dims:
    ds_ec = ds_ec.assign_coords(time=ds.time)  # add back the time coordinate


# CELL 1 (A): add time coord from the full dataset 'ds'
ds_ec = ds_ec.assign_coords(time=("time", ds.time.values))
ds_ec  # quick preview; you should now see 'time' under Coordinates


# CELL 2: verify 'time' is indeed a coordinate
print("coords:", list(ds_ec.coords))
print(ds_ec.dims)


import pandas as pd

# make sure time is sorted and backed by a Pandas DatetimeIndex
ds_ec = ds_ec.sortby("time")
ds_ec = ds_ec.assign_coords(time=pd.DatetimeIndex(ds_ec["time"].values))


import numpy as np

t = np.datetime64("2024-06-10")            # any date in your window
da = ds_ec["chlor_a"].sel(time=t, method="nearest")

sel_time = np.datetime_as_string(
    np.array(da.time.values).astype("datetime64[m]")
)
sel_time


import matplotlib.pyplot as plt
from matplotlib.colors import LogNorm

fig, ax = plt.subplots(figsize=(7, 6))
im = ax.pcolormesh(ds_ec.lon, ds_ec.lat, da, shading="auto",
                   norm=LogNorm(0.02, 20), cmap="Greens")
cbar = plt.colorbar(im, ax=ax)
cbar.set_label("Chlorophyll-a (mg m$^{-3}$)")
ax.set_xlabel("Longitude (deg east)")
ax.set_ylabel("Latitude (deg north)")
ax.set_title(f"PACE OCI Chlorophyll-a — {sel_time} (nearest)")
plt.tight_layout(); plt.show()



