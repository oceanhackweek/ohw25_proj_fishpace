{
 "cells": [
  {
   "cell_type": "code",
   "execution_count": 2,
   "id": "69229087",
   "metadata": {},
   "outputs": [],
   "source": [
    "import numpy as np\n",
    "import pandas as pd\n",
    "from matplotlib import pyplot as plt\n",
    "from matplotlib import axis as ax\n",
    "from gsw import SA_from_SP, CT_from_t, rho, p_from_z, spiciness0\n",
    "%matplotlib inline"
   ]
  },
  {
   "cell_type": "code",
   "execution_count": 3,
   "id": "27449bfa",
   "metadata": {},
   "outputs": [
    {
     "name": "stdout",
     "output_type": "stream",
     "text": [
      "/Users/alaimo/Documents/Rutgers/RoadToPhD/Chapter2\n"
     ]
    }
   ],
   "source": [
    "cd /Users/alaimo/Documents/Rutgers/RoadToPhD/Chapter2"
   ]
  },
  {
   "cell_type": "code",
   "execution_count": 48,
   "id": "bccfdfb2",
   "metadata": {},
   "outputs": [
    {
     "name": "stderr",
     "output_type": "stream",
     "text": [
      "/var/folders/1m/h30kdd551mzgc1v42hlv1v9w0000gn/T/ipykernel_9749/3525079727.py:1: DtypeWarning: Columns (2,6) have mixed types. Specify dtype option on import or set low_memory=False.\n",
      "  nefsc_count = pd.read_csv(\"Data/22560_NEFSCFallFisheriesIndependentBottomTrawlData/22560_UNION_FSCS_SVCAT.csv\", on_bad_lines=\"skip\", encoding='unicode_escape').groupby('SVSPP').get_group(503)\n"
     ]
    }
   ],
   "source": [
    "nefsc_count = pd.read_csv(\"Data/22560_NEFSCFallFisheriesIndependentBottomTrawlData/22560_UNION_FSCS_SVCAT.csv\", on_bad_lines=\"skip\", encoding='unicode_escape').groupby('SVSPP').get_group(503)\n",
    "nefsc_ocean = pd.read_csv(\"Data/22560_NEFSCFallFisheriesIndependentBottomTrawlData/22560_UNION_FSCS_SVSTA_updated.csv\", on_bad_lines=\"skip\", encoding='unicode_escape')"
   ]
  },
  {
   "cell_type": "code",
   "execution_count": 49,
   "id": "5cf750d2",
   "metadata": {},
   "outputs": [
    {
     "data": {
      "application/vnd.microsoft.datawrangler.viewer.v0+json": {
       "columns": [
        {
         "name": "index",
         "rawType": "int64",
         "type": "integer"
        },
        {
         "name": "CRUISE6",
         "rawType": "int64",
         "type": "integer"
        },
        {
         "name": "CRUISE",
         "rawType": "int64",
         "type": "integer"
        },
        {
         "name": "STRATUM",
         "rawType": "object",
         "type": "unknown"
        },
        {
         "name": "TOW",
         "rawType": "int64",
         "type": "integer"
        },
        {
         "name": "STATION",
         "rawType": "int64",
         "type": "integer"
        },
        {
         "name": "STATUS_CODE",
         "rawType": "int64",
         "type": "integer"
        },
        {
         "name": "ID",
         "rawType": "object",
         "type": "unknown"
        },
        {
         "name": "SVSPP",
         "rawType": "int64",
         "type": "integer"
        },
        {
         "name": "CATCHSEX",
         "rawType": "int64",
         "type": "integer"
        },
        {
         "name": "EXPCATCHNUM",
         "rawType": "float64",
         "type": "float"
        },
        {
         "name": "EXPCATCHWT",
         "rawType": "float64",
         "type": "float"
        },
        {
         "name": "SCIENTIFIC_NAME",
         "rawType": "object",
         "type": "string"
        }
       ],
       "ref": "4a66daf9-d49b-46e7-9edb-c1b645565962",
       "rows": [
        [
         "50",
         "196307",
         "6307",
         "1260",
         "3",
         "3",
         "10",
         "196307012600030003",
         "503",
         "0",
         "7.0",
         "0.0",
         "Loligo pealeii (longfin squid)"
        ],
        [
         "120",
         "196307",
         "6307",
         "1400",
         "1",
         "8",
         "10",
         "196307014000010008",
         "503",
         "0",
         "19.0",
         "0.0",
         "Loligo pealeii (longfin squid)"
        ],
        [
         "676",
         "196307",
         "6307",
         "1360",
         "7",
         "54",
         "10",
         "196307013600070054",
         "503",
         "0",
         "12.0",
         "0.0",
         "Loligo pealeii (longfin squid)"
        ],
        [
         "796",
         "196307",
         "6307",
         "1320",
         "1",
         "65",
         "10",
         "196307013200010065",
         "503",
         "0",
         "1.0",
         "0.0",
         "Loligo pealeii (longfin squid)"
        ],
        [
         "1274",
         "196307",
         "6307",
         "1250",
         "2",
         "104",
         "10",
         "196307012500020104",
         "503",
         "0",
         null,
         "0.0",
         "Loligo pealeii (longfin squid)"
        ],
        [
         "1290",
         "196307",
         "6307",
         "1230",
         "1",
         "105",
         "10",
         "196307012300010105",
         "503",
         "0",
         null,
         "0.0",
         "Loligo pealeii (longfin squid)"
        ],
        [
         "1597",
         "196307",
         "6307",
         "1170",
         "5",
         "128",
         "10",
         "196307011700050128",
         "503",
         "0",
         null,
         "0.0",
         "Loligo pealeii (longfin squid)"
        ],
        [
         "1950",
         "196307",
         "6307",
         "1110",
         "2",
         "153",
         "10",
         "196307011100020153",
         "503",
         "0",
         null,
         "0.0",
         "Loligo pealeii (longfin squid)"
        ],
        [
         "1997",
         "196307",
         "6307",
         "1050",
         "3",
         "156",
         "10",
         "196307010500030156",
         "503",
         "0",
         "17.0",
         "0.0",
         "Loligo pealeii (longfin squid)"
        ],
        [
         "2045",
         "196307",
         "6307",
         "1020",
         "1",
         "159",
         "10",
         "196307010200010159",
         "503",
         "0",
         null,
         "0.0",
         "Loligo pealeii (longfin squid)"
        ],
        [
         "2523",
         "196413",
         "6413",
         "1050",
         "3",
         "10",
         "10",
         "196413010500030010",
         "503",
         "0",
         "113.0",
         "7.7",
         "Loligo pealeii (longfin squid)"
        ],
        [
         "2568",
         "196413",
         "6413",
         "1010",
         "1",
         "13",
         "10",
         "196413010100010013",
         "503",
         "0",
         "36.0",
         "4.5",
         "Loligo pealeii (longfin squid)"
        ],
        [
         "2824",
         "196413",
         "6413",
         "1090",
         "4",
         "39",
         "10",
         "196413010900040039",
         "503",
         "0",
         "1.0",
         "0.5",
         "Loligo pealeii (longfin squid)"
        ],
        [
         "2839",
         "196413",
         "6413",
         "1090",
         "5",
         "40",
         "10",
         "196413010900050040",
         "503",
         "0",
         "82.0",
         "3.6",
         "Loligo pealeii (longfin squid)"
        ],
        [
         "4210",
         "196413",
         "6413",
         "1240",
         "5",
         "174",
         "10",
         "196413012400050174",
         "503",
         "0",
         "1.0",
         "0.0",
         "Loligo pealeii (longfin squid)"
        ],
        [
         "4234",
         "196413",
         "6413",
         "1220",
         "4",
         "177",
         "10",
         "196413012200040177",
         "503",
         "0",
         "1.0",
         "0.0",
         "Loligo pealeii (longfin squid)"
        ],
        [
         "4246",
         "196413",
         "6413",
         "1210",
         "3",
         "178",
         "10",
         "196413012100030178",
         "503",
         "0",
         "17.0",
         "4.1",
         "Loligo pealeii (longfin squid)"
        ],
        [
         "4277",
         "196413",
         "6413",
         "1200",
         "2",
         "181",
         "10",
         "196413012000020181",
         "503",
         "0",
         "3.0",
         "0.5",
         "Loligo pealeii (longfin squid)"
        ],
        [
         "5770",
         "196514",
         "6514",
         "1140",
         "3",
         "135",
         "10",
         "196514011400030135",
         "503",
         "0",
         "14.0",
         "0.5",
         "Loligo pealeii (longfin squid)"
        ],
        [
         "5795",
         "196514",
         "6514",
         "1130",
         "5",
         "137",
         "10",
         "196514011300050137",
         "503",
         "0",
         "784.0",
         "31.8",
         "Loligo pealeii (longfin squid)"
        ],
        [
         "5976",
         "196514",
         "6514",
         "1090",
         "3",
         "149",
         "10",
         "196514010900030149",
         "503",
         "0",
         "20.0",
         "1.0",
         "Loligo pealeii (longfin squid)"
        ],
        [
         "5999",
         "196514",
         "6514",
         "1100",
         "3",
         "151",
         "10",
         "196514011000030151",
         "503",
         "0",
         "142.0",
         "2.3",
         "Loligo pealeii (longfin squid)"
        ],
        [
         "6044",
         "196514",
         "6514",
         "1110",
         "4",
         "156",
         "10",
         "196514011100040156",
         "503",
         "0",
         "891.0",
         "19.1",
         "Loligo pealeii (longfin squid)"
        ],
        [
         "6050",
         "196514",
         "6514",
         "1120",
         "4",
         "157",
         "10",
         "196514011200040157",
         "503",
         "0",
         "233.0",
         "9.0",
         "Loligo pealeii (longfin squid)"
        ],
        [
         "6059",
         "196514",
         "6514",
         "1070",
         "1",
         "159",
         "10",
         "196514010700010159",
         "503",
         "0",
         "521.0",
         "18.6",
         "Loligo pealeii (longfin squid)"
        ],
        [
         "6087",
         "196514",
         "6514",
         "1100",
         "5",
         "161",
         "10",
         "196514011000050161",
         "503",
         "0",
         "4.0",
         "0.5",
         "Loligo pealeii (longfin squid)"
        ],
        [
         "6191",
         "196514",
         "6514",
         "1070",
         "4",
         "169",
         "10",
         "196514010700040169",
         "503",
         "0",
         "1769.0",
         "36.3",
         "Loligo pealeii (longfin squid)"
        ],
        [
         "6270",
         "196514",
         "6514",
         "1040",
         "1",
         "176",
         "10",
         "196514010400010176",
         "503",
         "0",
         "108.0",
         "28.1",
         "Loligo pealeii (longfin squid)"
        ],
        [
         "6278",
         "196514",
         "6514",
         "1030",
         "3",
         "177",
         "10",
         "196514010300030177",
         "503",
         "0",
         "824.0",
         "14.4",
         "Loligo pealeii (longfin squid)"
        ],
        [
         "6289",
         "196514",
         "6514",
         "1040",
         "2",
         "178",
         "10",
         "196514010400020178",
         "503",
         "0",
         "136.0",
         "8.0",
         "Loligo pealeii (longfin squid)"
        ],
        [
         "6295",
         "196514",
         "6514",
         "1030",
         "4",
         "179",
         "10",
         "196514010300040179",
         "503",
         "0",
         "404.0",
         "3.0",
         "Loligo pealeii (longfin squid)"
        ],
        [
         "6337",
         "196514",
         "6514",
         "1020",
         "4",
         "182",
         "10",
         "196514010200040182",
         "503",
         "0",
         "39.0",
         "3.6",
         "Loligo pealeii (longfin squid)"
        ],
        [
         "6389",
         "196514",
         "6514",
         "1010",
         "3",
         "185",
         "10",
         "196514010100030185",
         "503",
         "0",
         "53.0",
         "4.5",
         "Loligo pealeii (longfin squid)"
        ],
        [
         "6404",
         "196514",
         "6514",
         "1010",
         "4",
         "186",
         "10",
         "196514010100040186",
         "503",
         "0",
         "15.0",
         "1.0",
         "Loligo pealeii (longfin squid)"
        ],
        [
         "6456",
         "196514",
         "6514",
         "1050",
         "2",
         "189",
         "10",
         "196514010500020189",
         "503",
         "0",
         "2.0",
         "0.0",
         "Loligo pealeii (longfin squid)"
        ],
        [
         "6472",
         "196514",
         "6514",
         "1090",
         "4",
         "190",
         "10",
         "196514010900040190",
         "503",
         "0",
         "5.0",
         "0.5",
         "Loligo pealeii (longfin squid)"
        ],
        [
         "6491",
         "196514",
         "6514",
         "1090",
         "5",
         "191",
         "10",
         "196514010900050191",
         "503",
         "0",
         "17.0",
         "2.3",
         "Loligo pealeii (longfin squid)"
        ],
        [
         "6508",
         "196514",
         "6514",
         "1050",
         "3",
         "192",
         "10",
         "196514010500030192",
         "503",
         "0",
         "26.0",
         "0.5",
         "Loligo pealeii (longfin squid)"
        ],
        [
         "7746",
         "196614",
         "6614",
         "1200",
         "5",
         "104",
         "10",
         "196614012000050104",
         "503",
         "0",
         "1.0",
         "0.0",
         "Loligo pealeii (longfin squid)"
        ],
        [
         "9063",
         "196721",
         "6721",
         "1070",
         "3",
         "5",
         "10",
         "196721010700030005",
         "503",
         "0",
         "117.0",
         "16.8",
         "Loligo pealeii (longfin squid)"
        ],
        [
         "9070",
         "196721",
         "6721",
         "1070",
         "2",
         "6",
         "10",
         "196721010700020006",
         "503",
         "0",
         "96.0",
         "9.1",
         "Loligo pealeii (longfin squid)"
        ],
        [
         "9075",
         "196721",
         "6721",
         "1070",
         "4",
         "7",
         "10",
         "196721010700040007",
         "503",
         "0",
         "7.0",
         "0.5",
         "Loligo pealeii (longfin squid)"
        ],
        [
         "9139",
         "196721",
         "6721",
         "1030",
         "3",
         "13",
         "10",
         "196721010300030013",
         "503",
         "0",
         "28.0",
         "2.2",
         "Loligo pealeii (longfin squid)"
        ],
        [
         "9147",
         "196721",
         "6721",
         "1030",
         "2",
         "14",
         "10",
         "196721010300020014",
         "503",
         "0",
         "60.0",
         "1.5",
         "Loligo pealeii (longfin squid)"
        ],
        [
         "9182",
         "196721",
         "6721",
         "1750",
         "3",
         "19",
         "10",
         "196721017500030019",
         "503",
         "0",
         "9.0",
         "0.5",
         "Loligo pealeii (longfin squid)"
        ],
        [
         "9194",
         "196721",
         "6721",
         "1750",
         "2",
         "21",
         "10",
         "196721017500020021",
         "503",
         "0",
         "957.0",
         "89.4",
         "Loligo pealeii (longfin squid)"
        ],
        [
         "9207",
         "196721",
         "6721",
         "1740",
         "4",
         "22",
         "10",
         "196721017400040022",
         "503",
         "0",
         "1065.0",
         "18.1",
         "Loligo pealeii (longfin squid)"
        ],
        [
         "9216",
         "196721",
         "6721",
         "1750",
         "1",
         "23",
         "10",
         "196721017500010023",
         "503",
         "0",
         "100.0",
         "5.6",
         "Loligo pealeii (longfin squid)"
        ],
        [
         "9269",
         "196721",
         "6721",
         "1700",
         "3",
         "28",
         "10",
         "196721017000030028",
         "503",
         "0",
         "7.0",
         "0.5",
         "Loligo pealeii (longfin squid)"
        ],
        [
         "9281",
         "196721",
         "6721",
         "1700",
         "2",
         "29",
         "10",
         "196721017000020029",
         "503",
         "0",
         "9.0",
         "0.8",
         "Loligo pealeii (longfin squid)"
        ]
       ],
       "shape": {
        "columns": 12,
        "rows": 13194
       }
      },
      "text/html": [
       "<div>\n",
       "<style scoped>\n",
       "    .dataframe tbody tr th:only-of-type {\n",
       "        vertical-align: middle;\n",
       "    }\n",
       "\n",
       "    .dataframe tbody tr th {\n",
       "        vertical-align: top;\n",
       "    }\n",
       "\n",
       "    .dataframe thead th {\n",
       "        text-align: right;\n",
       "    }\n",
       "</style>\n",
       "<table border=\"1\" class=\"dataframe\">\n",
       "  <thead>\n",
       "    <tr style=\"text-align: right;\">\n",
       "      <th></th>\n",
       "      <th>CRUISE6</th>\n",
       "      <th>CRUISE</th>\n",
       "      <th>STRATUM</th>\n",
       "      <th>TOW</th>\n",
       "      <th>STATION</th>\n",
       "      <th>STATUS_CODE</th>\n",
       "      <th>ID</th>\n",
       "      <th>SVSPP</th>\n",
       "      <th>CATCHSEX</th>\n",
       "      <th>EXPCATCHNUM</th>\n",
       "      <th>EXPCATCHWT</th>\n",
       "      <th>SCIENTIFIC_NAME</th>\n",
       "    </tr>\n",
       "  </thead>\n",
       "  <tbody>\n",
       "    <tr>\n",
       "      <th>50</th>\n",
       "      <td>196307</td>\n",
       "      <td>6307</td>\n",
       "      <td>1260</td>\n",
       "      <td>3</td>\n",
       "      <td>3</td>\n",
       "      <td>10</td>\n",
       "      <td>196307012600030003</td>\n",
       "      <td>503</td>\n",
       "      <td>0</td>\n",
       "      <td>7.0</td>\n",
       "      <td>0.000</td>\n",
       "      <td>Loligo pealeii (longfin squid)</td>\n",
       "    </tr>\n",
       "    <tr>\n",
       "      <th>120</th>\n",
       "      <td>196307</td>\n",
       "      <td>6307</td>\n",
       "      <td>1400</td>\n",
       "      <td>1</td>\n",
       "      <td>8</td>\n",
       "      <td>10</td>\n",
       "      <td>196307014000010008</td>\n",
       "      <td>503</td>\n",
       "      <td>0</td>\n",
       "      <td>19.0</td>\n",
       "      <td>0.000</td>\n",
       "      <td>Loligo pealeii (longfin squid)</td>\n",
       "    </tr>\n",
       "    <tr>\n",
       "      <th>676</th>\n",
       "      <td>196307</td>\n",
       "      <td>6307</td>\n",
       "      <td>1360</td>\n",
       "      <td>7</td>\n",
       "      <td>54</td>\n",
       "      <td>10</td>\n",
       "      <td>196307013600070054</td>\n",
       "      <td>503</td>\n",
       "      <td>0</td>\n",
       "      <td>12.0</td>\n",
       "      <td>0.000</td>\n",
       "      <td>Loligo pealeii (longfin squid)</td>\n",
       "    </tr>\n",
       "    <tr>\n",
       "      <th>796</th>\n",
       "      <td>196307</td>\n",
       "      <td>6307</td>\n",
       "      <td>1320</td>\n",
       "      <td>1</td>\n",
       "      <td>65</td>\n",
       "      <td>10</td>\n",
       "      <td>196307013200010065</td>\n",
       "      <td>503</td>\n",
       "      <td>0</td>\n",
       "      <td>1.0</td>\n",
       "      <td>0.000</td>\n",
       "      <td>Loligo pealeii (longfin squid)</td>\n",
       "    </tr>\n",
       "    <tr>\n",
       "      <th>1274</th>\n",
       "      <td>196307</td>\n",
       "      <td>6307</td>\n",
       "      <td>1250</td>\n",
       "      <td>2</td>\n",
       "      <td>104</td>\n",
       "      <td>10</td>\n",
       "      <td>196307012500020104</td>\n",
       "      <td>503</td>\n",
       "      <td>0</td>\n",
       "      <td>NaN</td>\n",
       "      <td>0.000</td>\n",
       "      <td>Loligo pealeii (longfin squid)</td>\n",
       "    </tr>\n",
       "    <tr>\n",
       "      <th>...</th>\n",
       "      <td>...</td>\n",
       "      <td>...</td>\n",
       "      <td>...</td>\n",
       "      <td>...</td>\n",
       "      <td>...</td>\n",
       "      <td>...</td>\n",
       "      <td>...</td>\n",
       "      <td>...</td>\n",
       "      <td>...</td>\n",
       "      <td>...</td>\n",
       "      <td>...</td>\n",
       "      <td>...</td>\n",
       "    </tr>\n",
       "    <tr>\n",
       "      <th>338062</th>\n",
       "      <td>202404</td>\n",
       "      <td>202404</td>\n",
       "      <td>3610</td>\n",
       "      <td>3</td>\n",
       "      <td>808</td>\n",
       "      <td>10</td>\n",
       "      <td>202404036100030808</td>\n",
       "      <td>503</td>\n",
       "      <td>0</td>\n",
       "      <td>13.0</td>\n",
       "      <td>0.505</td>\n",
       "      <td>Loligo pealeii (longfin squid)</td>\n",
       "    </tr>\n",
       "    <tr>\n",
       "      <th>338090</th>\n",
       "      <td>202404</td>\n",
       "      <td>202404</td>\n",
       "      <td>1260</td>\n",
       "      <td>2</td>\n",
       "      <td>810</td>\n",
       "      <td>10</td>\n",
       "      <td>202404012600020810</td>\n",
       "      <td>503</td>\n",
       "      <td>0</td>\n",
       "      <td>1.0</td>\n",
       "      <td>0.056</td>\n",
       "      <td>Loligo pealeii (longfin squid)</td>\n",
       "    </tr>\n",
       "    <tr>\n",
       "      <th>338120</th>\n",
       "      <td>202404</td>\n",
       "      <td>202404</td>\n",
       "      <td>1260</td>\n",
       "      <td>4</td>\n",
       "      <td>812</td>\n",
       "      <td>10</td>\n",
       "      <td>202404012600040812</td>\n",
       "      <td>503</td>\n",
       "      <td>0</td>\n",
       "      <td>65.0</td>\n",
       "      <td>3.979</td>\n",
       "      <td>Loligo pealeii (longfin squid)</td>\n",
       "    </tr>\n",
       "    <tr>\n",
       "      <th>338146</th>\n",
       "      <td>202404</td>\n",
       "      <td>202404</td>\n",
       "      <td>1260</td>\n",
       "      <td>6</td>\n",
       "      <td>814</td>\n",
       "      <td>10</td>\n",
       "      <td>202404012600060814</td>\n",
       "      <td>503</td>\n",
       "      <td>0</td>\n",
       "      <td>4.0</td>\n",
       "      <td>0.172</td>\n",
       "      <td>Loligo pealeii (longfin squid)</td>\n",
       "    </tr>\n",
       "    <tr>\n",
       "      <th>338175</th>\n",
       "      <td>202404</td>\n",
       "      <td>202404</td>\n",
       "      <td>1260</td>\n",
       "      <td>7</td>\n",
       "      <td>816</td>\n",
       "      <td>10</td>\n",
       "      <td>202404012600070816</td>\n",
       "      <td>503</td>\n",
       "      <td>0</td>\n",
       "      <td>163.0</td>\n",
       "      <td>0.916</td>\n",
       "      <td>Loligo pealeii (longfin squid)</td>\n",
       "    </tr>\n",
       "  </tbody>\n",
       "</table>\n",
       "<p>13194 rows × 12 columns</p>\n",
       "</div>"
      ],
      "text/plain": [
       "        CRUISE6  CRUISE STRATUM  TOW  STATION  STATUS_CODE  \\\n",
       "50       196307    6307    1260    3        3           10   \n",
       "120      196307    6307    1400    1        8           10   \n",
       "676      196307    6307    1360    7       54           10   \n",
       "796      196307    6307    1320    1       65           10   \n",
       "1274     196307    6307    1250    2      104           10   \n",
       "...         ...     ...     ...  ...      ...          ...   \n",
       "338062   202404  202404    3610    3      808           10   \n",
       "338090   202404  202404    1260    2      810           10   \n",
       "338120   202404  202404    1260    4      812           10   \n",
       "338146   202404  202404    1260    6      814           10   \n",
       "338175   202404  202404    1260    7      816           10   \n",
       "\n",
       "                        ID  SVSPP  CATCHSEX  EXPCATCHNUM  EXPCATCHWT  \\\n",
       "50      196307012600030003    503         0          7.0       0.000   \n",
       "120     196307014000010008    503         0         19.0       0.000   \n",
       "676     196307013600070054    503         0         12.0       0.000   \n",
       "796     196307013200010065    503         0          1.0       0.000   \n",
       "1274    196307012500020104    503         0          NaN       0.000   \n",
       "...                    ...    ...       ...          ...         ...   \n",
       "338062  202404036100030808    503         0         13.0       0.505   \n",
       "338090  202404012600020810    503         0          1.0       0.056   \n",
       "338120  202404012600040812    503         0         65.0       3.979   \n",
       "338146  202404012600060814    503         0          4.0       0.172   \n",
       "338175  202404012600070816    503         0        163.0       0.916   \n",
       "\n",
       "                       SCIENTIFIC_NAME  \n",
       "50      Loligo pealeii (longfin squid)  \n",
       "120     Loligo pealeii (longfin squid)  \n",
       "676     Loligo pealeii (longfin squid)  \n",
       "796     Loligo pealeii (longfin squid)  \n",
       "1274    Loligo pealeii (longfin squid)  \n",
       "...                                ...  \n",
       "338062  Loligo pealeii (longfin squid)  \n",
       "338090  Loligo pealeii (longfin squid)  \n",
       "338120  Loligo pealeii (longfin squid)  \n",
       "338146  Loligo pealeii (longfin squid)  \n",
       "338175  Loligo pealeii (longfin squid)  \n",
       "\n",
       "[13194 rows x 12 columns]"
      ]
     },
     "execution_count": 49,
     "metadata": {},
     "output_type": "execute_result"
    }
   ],
   "source": [
    "nefsc_count"
   ]
  },
  {
   "cell_type": "code",
   "execution_count": 50,
   "id": "6cc43b25",
   "metadata": {},
   "outputs": [],
   "source": [
    "nefsc_count = nefsc_count.drop(columns=[\"CRUISE6\",\"CRUISE\",\"SVSPP\",'TOW','STATION','STRATUM','STATUS_CODE','SCIENTIFIC_NAME',\"CATCHSEX\"])\n",
    "nefsc_count = nefsc_count.rename(columns = {\"EXPCATCHNUM\":\"squid\", \"EXPCATCHWT\":\"weight\"})\n",
    "nefsc_count['squid1'] = np.where(nefsc_count['squid'] >= 1.0,1,0).astype(int)"
   ]
  },
  {
   "cell_type": "code",
   "execution_count": 51,
   "id": "128ff70d",
   "metadata": {},
   "outputs": [
    {
     "data": {
      "application/vnd.microsoft.datawrangler.viewer.v0+json": {
       "columns": [
        {
         "name": "index",
         "rawType": "int64",
         "type": "integer"
        },
        {
         "name": "ID",
         "rawType": "object",
         "type": "unknown"
        },
        {
         "name": "squid",
         "rawType": "float64",
         "type": "float"
        },
        {
         "name": "weight",
         "rawType": "float64",
         "type": "float"
        },
        {
         "name": "squid1",
         "rawType": "int64",
         "type": "integer"
        }
       ],
       "ref": "f019c80e-e312-436a-b873-b91a30153e56",
       "rows": [
        [
         "50",
         "196307012600030003",
         "7.0",
         "0.0",
         "1"
        ],
        [
         "120",
         "196307014000010008",
         "19.0",
         "0.0",
         "1"
        ],
        [
         "676",
         "196307013600070054",
         "12.0",
         "0.0",
         "1"
        ],
        [
         "796",
         "196307013200010065",
         "1.0",
         "0.0",
         "1"
        ],
        [
         "1274",
         "196307012500020104",
         null,
         "0.0",
         "0"
        ],
        [
         "1290",
         "196307012300010105",
         null,
         "0.0",
         "0"
        ],
        [
         "1597",
         "196307011700050128",
         null,
         "0.0",
         "0"
        ],
        [
         "1950",
         "196307011100020153",
         null,
         "0.0",
         "0"
        ],
        [
         "1997",
         "196307010500030156",
         "17.0",
         "0.0",
         "1"
        ],
        [
         "2045",
         "196307010200010159",
         null,
         "0.0",
         "0"
        ],
        [
         "2523",
         "196413010500030010",
         "113.0",
         "7.7",
         "1"
        ],
        [
         "2568",
         "196413010100010013",
         "36.0",
         "4.5",
         "1"
        ],
        [
         "2824",
         "196413010900040039",
         "1.0",
         "0.5",
         "1"
        ],
        [
         "2839",
         "196413010900050040",
         "82.0",
         "3.6",
         "1"
        ],
        [
         "4210",
         "196413012400050174",
         "1.0",
         "0.0",
         "1"
        ],
        [
         "4234",
         "196413012200040177",
         "1.0",
         "0.0",
         "1"
        ],
        [
         "4246",
         "196413012100030178",
         "17.0",
         "4.1",
         "1"
        ],
        [
         "4277",
         "196413012000020181",
         "3.0",
         "0.5",
         "1"
        ],
        [
         "5770",
         "196514011400030135",
         "14.0",
         "0.5",
         "1"
        ],
        [
         "5795",
         "196514011300050137",
         "784.0",
         "31.8",
         "1"
        ],
        [
         "5976",
         "196514010900030149",
         "20.0",
         "1.0",
         "1"
        ],
        [
         "5999",
         "196514011000030151",
         "142.0",
         "2.3",
         "1"
        ],
        [
         "6044",
         "196514011100040156",
         "891.0",
         "19.1",
         "1"
        ],
        [
         "6050",
         "196514011200040157",
         "233.0",
         "9.0",
         "1"
        ],
        [
         "6059",
         "196514010700010159",
         "521.0",
         "18.6",
         "1"
        ],
        [
         "6087",
         "196514011000050161",
         "4.0",
         "0.5",
         "1"
        ],
        [
         "6191",
         "196514010700040169",
         "1769.0",
         "36.3",
         "1"
        ],
        [
         "6270",
         "196514010400010176",
         "108.0",
         "28.1",
         "1"
        ],
        [
         "6278",
         "196514010300030177",
         "824.0",
         "14.4",
         "1"
        ],
        [
         "6289",
         "196514010400020178",
         "136.0",
         "8.0",
         "1"
        ],
        [
         "6295",
         "196514010300040179",
         "404.0",
         "3.0",
         "1"
        ],
        [
         "6337",
         "196514010200040182",
         "39.0",
         "3.6",
         "1"
        ],
        [
         "6389",
         "196514010100030185",
         "53.0",
         "4.5",
         "1"
        ],
        [
         "6404",
         "196514010100040186",
         "15.0",
         "1.0",
         "1"
        ],
        [
         "6456",
         "196514010500020189",
         "2.0",
         "0.0",
         "1"
        ],
        [
         "6472",
         "196514010900040190",
         "5.0",
         "0.5",
         "1"
        ],
        [
         "6491",
         "196514010900050191",
         "17.0",
         "2.3",
         "1"
        ],
        [
         "6508",
         "196514010500030192",
         "26.0",
         "0.5",
         "1"
        ],
        [
         "7746",
         "196614012000050104",
         "1.0",
         "0.0",
         "1"
        ],
        [
         "9063",
         "196721010700030005",
         "117.0",
         "16.8",
         "1"
        ],
        [
         "9070",
         "196721010700020006",
         "96.0",
         "9.1",
         "1"
        ],
        [
         "9075",
         "196721010700040007",
         "7.0",
         "0.5",
         "1"
        ],
        [
         "9139",
         "196721010300030013",
         "28.0",
         "2.2",
         "1"
        ],
        [
         "9147",
         "196721010300020014",
         "60.0",
         "1.5",
         "1"
        ],
        [
         "9182",
         "196721017500030019",
         "9.0",
         "0.5",
         "1"
        ],
        [
         "9194",
         "196721017500020021",
         "957.0",
         "89.4",
         "1"
        ],
        [
         "9207",
         "196721017400040022",
         "1065.0",
         "18.1",
         "1"
        ],
        [
         "9216",
         "196721017500010023",
         "100.0",
         "5.6",
         "1"
        ],
        [
         "9269",
         "196721017000030028",
         "7.0",
         "0.5",
         "1"
        ],
        [
         "9281",
         "196721017000020029",
         "9.0",
         "0.8",
         "1"
        ]
       ],
       "shape": {
        "columns": 4,
        "rows": 13194
       }
      },
      "text/html": [
       "<div>\n",
       "<style scoped>\n",
       "    .dataframe tbody tr th:only-of-type {\n",
       "        vertical-align: middle;\n",
       "    }\n",
       "\n",
       "    .dataframe tbody tr th {\n",
       "        vertical-align: top;\n",
       "    }\n",
       "\n",
       "    .dataframe thead th {\n",
       "        text-align: right;\n",
       "    }\n",
       "</style>\n",
       "<table border=\"1\" class=\"dataframe\">\n",
       "  <thead>\n",
       "    <tr style=\"text-align: right;\">\n",
       "      <th></th>\n",
       "      <th>ID</th>\n",
       "      <th>squid</th>\n",
       "      <th>weight</th>\n",
       "      <th>squid1</th>\n",
       "    </tr>\n",
       "  </thead>\n",
       "  <tbody>\n",
       "    <tr>\n",
       "      <th>50</th>\n",
       "      <td>196307012600030003</td>\n",
       "      <td>7.0</td>\n",
       "      <td>0.000</td>\n",
       "      <td>1</td>\n",
       "    </tr>\n",
       "    <tr>\n",
       "      <th>120</th>\n",
       "      <td>196307014000010008</td>\n",
       "      <td>19.0</td>\n",
       "      <td>0.000</td>\n",
       "      <td>1</td>\n",
       "    </tr>\n",
       "    <tr>\n",
       "      <th>676</th>\n",
       "      <td>196307013600070054</td>\n",
       "      <td>12.0</td>\n",
       "      <td>0.000</td>\n",
       "      <td>1</td>\n",
       "    </tr>\n",
       "    <tr>\n",
       "      <th>796</th>\n",
       "      <td>196307013200010065</td>\n",
       "      <td>1.0</td>\n",
       "      <td>0.000</td>\n",
       "      <td>1</td>\n",
       "    </tr>\n",
       "    <tr>\n",
       "      <th>1274</th>\n",
       "      <td>196307012500020104</td>\n",
       "      <td>NaN</td>\n",
       "      <td>0.000</td>\n",
       "      <td>0</td>\n",
       "    </tr>\n",
       "    <tr>\n",
       "      <th>...</th>\n",
       "      <td>...</td>\n",
       "      <td>...</td>\n",
       "      <td>...</td>\n",
       "      <td>...</td>\n",
       "    </tr>\n",
       "    <tr>\n",
       "      <th>338062</th>\n",
       "      <td>202404036100030808</td>\n",
       "      <td>13.0</td>\n",
       "      <td>0.505</td>\n",
       "      <td>1</td>\n",
       "    </tr>\n",
       "    <tr>\n",
       "      <th>338090</th>\n",
       "      <td>202404012600020810</td>\n",
       "      <td>1.0</td>\n",
       "      <td>0.056</td>\n",
       "      <td>1</td>\n",
       "    </tr>\n",
       "    <tr>\n",
       "      <th>338120</th>\n",
       "      <td>202404012600040812</td>\n",
       "      <td>65.0</td>\n",
       "      <td>3.979</td>\n",
       "      <td>1</td>\n",
       "    </tr>\n",
       "    <tr>\n",
       "      <th>338146</th>\n",
       "      <td>202404012600060814</td>\n",
       "      <td>4.0</td>\n",
       "      <td>0.172</td>\n",
       "      <td>1</td>\n",
       "    </tr>\n",
       "    <tr>\n",
       "      <th>338175</th>\n",
       "      <td>202404012600070816</td>\n",
       "      <td>163.0</td>\n",
       "      <td>0.916</td>\n",
       "      <td>1</td>\n",
       "    </tr>\n",
       "  </tbody>\n",
       "</table>\n",
       "<p>13194 rows × 4 columns</p>\n",
       "</div>"
      ],
      "text/plain": [
       "                        ID  squid  weight  squid1\n",
       "50      196307012600030003    7.0   0.000       1\n",
       "120     196307014000010008   19.0   0.000       1\n",
       "676     196307013600070054   12.0   0.000       1\n",
       "796     196307013200010065    1.0   0.000       1\n",
       "1274    196307012500020104    NaN   0.000       0\n",
       "...                    ...    ...     ...     ...\n",
       "338062  202404036100030808   13.0   0.505       1\n",
       "338090  202404012600020810    1.0   0.056       1\n",
       "338120  202404012600040812   65.0   3.979       1\n",
       "338146  202404012600060814    4.0   0.172       1\n",
       "338175  202404012600070816  163.0   0.916       1\n",
       "\n",
       "[13194 rows x 4 columns]"
      ]
     },
     "execution_count": 51,
     "metadata": {},
     "output_type": "execute_result"
    }
   ],
   "source": [
    "nefsc_count"
   ]
  },
  {
   "cell_type": "code",
   "execution_count": 58,
   "id": "0ad5c0aa",
   "metadata": {},
   "outputs": [],
   "source": [
    "nefsc_full = pd.merge(nefsc_ocean,nefsc_count,on=\"ID\", how='left').sort_index()"
   ]
  },
  {
   "cell_type": "code",
   "execution_count": 59,
   "id": "e76a951b",
   "metadata": {},
   "outputs": [],
   "source": [
    "nefsc_full['year'] = nefsc_full['ID'].astype(str).str[:4].astype(int)"
   ]
  },
  {
   "cell_type": "code",
   "execution_count": 61,
   "id": "bc3c0a20",
   "metadata": {},
   "outputs": [
    {
     "data": {
      "text/plain": [
       "array([1963, 1964, 1965, 1966, 1967, 1968, 1969, 1970, 1971, 1972, 1973,\n",
       "       1974, 1975, 1976, 1977, 1978, 1979, 1980, 1981, 1982, 1983, 1984,\n",
       "       1985, 1986, 1987, 1988, 1989, 1990, 1991, 1992, 1993, 1994, 1995,\n",
       "       1996, 1997, 1998, 1999, 2000, 2001, 2002, 2003, 2004, 2005, 2006,\n",
       "       2007, 2008, 2009, 2010, 2011, 2012, 2013, 2014, 2015, 2016, 2017,\n",
       "       2018, 2019, 2021, 2022, 2023, 2024])"
      ]
     },
     "execution_count": 61,
     "metadata": {},
     "output_type": "execute_result"
    }
   ],
   "source": [
    "nefsc_full.year.unique()"
   ]
  },
  {
   "cell_type": "code",
   "execution_count": null,
   "id": "e0d0402b",
   "metadata": {},
   "outputs": [],
   "source": [
    "# nefsc_full[\"START_DATE\"] = pd.to_datetime(nefsc_full.START_DATE, format='%m/%d/%y %H:%M', errors='coerce').dt.strftime('%m/%d/%y')\n",
    "# nefsc_full['DOY']= pd.to_datetime(nefsc_full.START_DATE, format='%m/%d/%y', errors='coerce').dt.dayofyear\n",
    "# nefsc_full['year']= pd.to_datetime(nefsc_full.START_DATE, format='%m/%d/%y', errors='coerce').dt.year\n",
    "# # nefsc_full[\"START_DATE\"] = pd.to_datetime(nefsc_full.START_DATE, format='%m/%d/%y %H:%M', errors='coerce').dt.strftime('%m/%d/%y')"
   ]
  },
  {
   "cell_type": "code",
   "execution_count": 62,
   "id": "e6103453",
   "metadata": {},
   "outputs": [],
   "source": [
    "drops = np.arange(1963,2023)\n",
    "df2 = nefsc_full.set_index('year')\n",
    "nefsc = df2.drop(drops, errors='ignore')"
   ]
  },
  {
   "cell_type": "code",
   "execution_count": 65,
   "id": "f9c74e42",
   "metadata": {},
   "outputs": [],
   "source": [
    "nefsc = nefsc.reset_index()"
   ]
  },
  {
   "cell_type": "code",
   "execution_count": 67,
   "id": "e4c61883",
   "metadata": {},
   "outputs": [],
   "source": [
    "nefsc[\"START_DATE\"]= pd.to_datetime(nefsc.START_DATE, format='%m/%d/%y %H:%M', errors='coerce').dt.strftime('%m/%d/%y')"
   ]
  },
  {
   "cell_type": "code",
   "execution_count": 73,
   "id": "afafcc45",
   "metadata": {},
   "outputs": [],
   "source": [
    "towdates = nefsc[\"START_DATE\"].copy()"
   ]
  },
  {
   "cell_type": "code",
   "execution_count": 74,
   "id": "cfb0fef2",
   "metadata": {},
   "outputs": [
    {
     "data": {
      "application/vnd.microsoft.datawrangler.viewer.v0+json": {
       "columns": [
        {
         "name": "index",
         "rawType": "int64",
         "type": "integer"
        },
        {
         "name": "START_DATE",
         "rawType": "object",
         "type": "unknown"
        }
       ],
       "ref": "3b955435-d789-47cc-849e-30ec908acedc",
       "rows": [
        [
         "0",
         "09/10/23"
        ],
        [
         "1",
         "09/10/23"
        ],
        [
         "2",
         "09/10/23"
        ],
        [
         "3",
         "09/10/23"
        ],
        [
         "4",
         "09/10/23"
        ],
        [
         "5",
         "09/11/23"
        ],
        [
         "6",
         "09/11/23"
        ],
        [
         "7",
         "09/11/23"
        ],
        [
         "8",
         "09/11/23"
        ],
        [
         "9",
         "09/11/23"
        ],
        [
         "10",
         "09/11/23"
        ],
        [
         "11",
         "09/11/23"
        ],
        [
         "12",
         "09/11/23"
        ],
        [
         "13",
         "09/11/23"
        ],
        [
         "14",
         "09/11/23"
        ],
        [
         "15",
         "09/12/23"
        ],
        [
         "16",
         "09/12/23"
        ],
        [
         "17",
         "09/12/23"
        ],
        [
         "18",
         "09/12/23"
        ],
        [
         "19",
         "09/12/23"
        ],
        [
         "20",
         "09/12/23"
        ],
        [
         "21",
         "09/12/23"
        ],
        [
         "22",
         "09/12/23"
        ],
        [
         "23",
         "09/12/23"
        ],
        [
         "24",
         "09/12/23"
        ],
        [
         "25",
         "09/13/23"
        ],
        [
         "26",
         "09/13/23"
        ],
        [
         "27",
         "09/13/23"
        ],
        [
         "28",
         "09/13/23"
        ],
        [
         "29",
         "09/13/23"
        ],
        [
         "30",
         "09/13/23"
        ],
        [
         "31",
         "09/13/23"
        ],
        [
         "32",
         "09/13/23"
        ],
        [
         "33",
         "09/13/23"
        ],
        [
         "34",
         "09/13/23"
        ],
        [
         "35",
         "09/13/23"
        ],
        [
         "36",
         "09/14/23"
        ],
        [
         "37",
         "09/14/23"
        ],
        [
         "38",
         "09/14/23"
        ],
        [
         "39",
         "09/16/23"
        ],
        [
         "40",
         "09/16/23"
        ],
        [
         "41",
         "09/16/23"
        ],
        [
         "42",
         "09/16/23"
        ],
        [
         "43",
         "09/16/23"
        ],
        [
         "44",
         "09/17/23"
        ],
        [
         "45",
         "09/17/23"
        ],
        [
         "46",
         "09/17/23"
        ],
        [
         "47",
         "09/17/23"
        ],
        [
         "48",
         "09/17/23"
        ],
        [
         "49",
         "09/17/23"
        ]
       ],
       "shape": {
        "columns": 1,
        "rows": 759
       }
      },
      "text/plain": [
       "0      09/10/23\n",
       "1      09/10/23\n",
       "2      09/10/23\n",
       "3      09/10/23\n",
       "4      09/10/23\n",
       "         ...   \n",
       "754    11/10/24\n",
       "755    11/10/24\n",
       "756    11/11/24\n",
       "757    11/11/24\n",
       "758    11/11/24\n",
       "Name: START_DATE, Length: 759, dtype: object"
      ]
     },
     "execution_count": 74,
     "metadata": {},
     "output_type": "execute_result"
    }
   ],
   "source": [
    "towdates"
   ]
  },
  {
   "cell_type": "code",
   "execution_count": 75,
   "id": "b663b807",
   "metadata": {},
   "outputs": [],
   "source": [
    "towdates['region'] = 'adult_northeast'"
   ]
  },
  {
   "cell_type": "code",
   "execution_count": 79,
   "id": "1bc6dd3b",
   "metadata": {},
   "outputs": [],
   "source": [
    "towdates = towdates.drop_duplicates()"
   ]
  },
  {
   "cell_type": "code",
   "execution_count": 80,
   "id": "bc9d0008",
   "metadata": {},
   "outputs": [],
   "source": [
    "towdates.to_csv(\"Data/towcatchdates_fall.csv\")"
   ]
  },
  {
   "cell_type": "code",
   "execution_count": null,
   "id": "99c13bfd",
   "metadata": {},
   "outputs": [],
   "source": []
  }
 ],
 "metadata": {
  "kernelspec": {
   "display_name": "squid-coldpool",
   "language": "python",
   "name": "python3"
  },
  "language_info": {
   "codemirror_mode": {
    "name": "ipython",
    "version": 3
   },
   "file_extension": ".py",
   "mimetype": "text/x-python",
   "name": "python",
   "nbconvert_exporter": "python",
   "pygments_lexer": "ipython3",
   "version": "3.12.11"
  }
 },
 "nbformat": 4,
 "nbformat_minor": 5
}
